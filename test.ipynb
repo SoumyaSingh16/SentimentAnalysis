{
 "cells": [
  {
   "cell_type": "code",
   "execution_count": 9,
   "metadata": {},
   "outputs": [
    {
     "name": "stdout",
     "output_type": "stream",
     "text": [
      "I feel so LUCKY to have found this used (phone to us & not used hard at all), phone on line from someone who upgraded and sold this one. My Son liked his old one that finally fell apart after 2.5+ years and didn't want an upgrade!! Thank you Seller, we really appreciate it & your honesty re: said used phone.I recommend this seller very highly & would but from them again!!\n",
      "Start Tokenization ... \n",
      "Tokenization Complete ... \n",
      "Stopwords Removed ... \n",
      "Words Joined ... \n",
      "feel lucky found used phone us used hard phone line someone upgraded sold one son liked old one finally fell apart 2.5+ years n't want upgrade thank seller really appreciate honesty said used phone.i recommend seller highly would\n"
     ]
    }
   ],
   "source": [
    "# -*- coding: utf-8 -*-\n",
    "\"\"\"\n",
    "Created on Tue Jun 11 00:35:22 2019\n",
    "\n",
    "@author: saumya\n",
    "\"\"\"\n",
    "\n",
    "from nltk.corpus import stopwords\n",
    "import pandas as pd\n",
    "import numpy as np\n",
    "import string\n",
    "from nltk.tokenize import word_tokenize\n",
    "\n",
    "stopwords_set=set(stopwords.words(\"english\"))\n",
    "\n",
    "data=pd.read_csv(r\"C:\\Users\\saumya\\Desktop\\project\\Smobile.csv\",nrows=10)\n",
    "print(data[\"Reviews\"].iloc[0])\n",
    "data[\"Reviews\"]=data[\"Reviews\"].replace(np.nan,\"NA\")\n",
    "print(\"Start Tokenization ... \")\n",
    "tokens=[word_tokenize(item.lower()) for item in list(data[\"Reviews\"])]\n",
    "print(\"Tokenization Complete ... \")\n",
    "final_tokens=[[item for item in text if item not in string.punctuation and item not in stopwords_set] for text in tokens]\n",
    "print(\"Stopwords Removed ... \")\n",
    "final_words=[\" \".join(token) for token in final_tokens]\n",
    "print(\"Words Joined ... \")\n",
    "data[\"Reviews\"]=final_words\n",
    "print(data[\"Reviews\"].iloc[0])"
   ]
  },
  {
   "cell_type": "code",
   "execution_count": 10,
   "metadata": {},
   "outputs": [
    {
     "name": "stdout",
     "output_type": "stream",
     "text": [
      "feel lucky found used phone us used hard phone line someone upgraded sold one son liked old one finally fell apart 2.5+ years n't want upgrade thank seller really appreciate honesty said used phone.i recommend seller highly would\n",
      "#####\n",
      "nice phone nice grade pantach revue clean set easy set never android phone fantastic say least perfect size surfing social media great phone samsung\n",
      "#####\n",
      "pleased\n",
      "#####\n",
      "works good goes slow sometimes good phone love\n",
      "#####\n",
      "great phone replace lost phone thing volume button work still go settings adjust job eligible upgrade phone again.thaanks\n",
      "#####\n",
      "already phone problems ... know stated used dang state charge wish would read comments would purchased item ... cracked side.. damaged goods ... trying charge another way work requesting money back ... get money back ... signed unhappy customer ...\n",
      "#####\n",
      "charging port loose got soldered needed new battery well 100 later including cost purchase usable phone phone sold state\n",
      "#####\n",
      "phone looks good would n't stay charged buy new battery still could n't stay charged long.so trashed it.money lost never buy person\n",
      "#####\n",
      "originally using samsung s2 galaxy sprint wanted return back samsung epic 4g sprint really missed keyboard really liked smaller compact size phone still needed basic functions smart phone i.e checking e-mail getting directions text messaging phone powerful newer cell phones aware applications install slower phone runs likely freeze time time camera works great video great well even web browsing decent gives need also notice battery life lasts little bit longer charging phone much quicker galaxy s2\n",
      "#####\n",
      "'s battery life great 's responsive touch issue sometimes screen goes black press top button several times get screen re-illuminate\n",
      "#####\n"
     ]
    }
   ],
   "source": [
    "for text in list(data[\"Reviews\"]) :\n",
    "    print(text)\n",
    "    print(\"#####\")"
   ]
  },
  {
   "cell_type": "code",
   "execution_count": 2,
   "metadata": {},
   "outputs": [],
   "source": [
    "import pandas as pd\n",
    "df=pd.read_csv(r\"C:\\Users\\saumya\\Desktop\\project\\Smobile.csv\",nrows=10)"
   ]
  },
  {
   "cell_type": "code",
   "execution_count": 4,
   "metadata": {},
   "outputs": [
    {
     "data": {
      "text/html": [
       "<div>\n",
       "<style scoped>\n",
       "    .dataframe tbody tr th:only-of-type {\n",
       "        vertical-align: middle;\n",
       "    }\n",
       "\n",
       "    .dataframe tbody tr th {\n",
       "        vertical-align: top;\n",
       "    }\n",
       "\n",
       "    .dataframe thead th {\n",
       "        text-align: right;\n",
       "    }\n",
       "</style>\n",
       "<table border=\"1\" class=\"dataframe\">\n",
       "  <thead>\n",
       "    <tr style=\"text-align: right;\">\n",
       "      <th></th>\n",
       "      <th>Product Name</th>\n",
       "      <th>Brand Name</th>\n",
       "      <th>Price</th>\n",
       "      <th>Rating</th>\n",
       "      <th>Reviews</th>\n",
       "      <th>Review Votes</th>\n",
       "    </tr>\n",
       "  </thead>\n",
       "  <tbody>\n",
       "    <tr>\n",
       "      <th>0</th>\n",
       "      <td>\"CLEAR CLEAN ESN\" Sprint EPIC 4G Galaxy SPH-D7...</td>\n",
       "      <td>Samsung</td>\n",
       "      <td>199.99</td>\n",
       "      <td>5</td>\n",
       "      <td>I feel so LUCKY to have found this used (phone...</td>\n",
       "      <td>1</td>\n",
       "    </tr>\n",
       "    <tr>\n",
       "      <th>1</th>\n",
       "      <td>\"CLEAR CLEAN ESN\" Sprint EPIC 4G Galaxy SPH-D7...</td>\n",
       "      <td>Samsung</td>\n",
       "      <td>199.99</td>\n",
       "      <td>4</td>\n",
       "      <td>nice phone, nice up grade from my pantach revu...</td>\n",
       "      <td>0</td>\n",
       "    </tr>\n",
       "    <tr>\n",
       "      <th>2</th>\n",
       "      <td>\"CLEAR CLEAN ESN\" Sprint EPIC 4G Galaxy SPH-D7...</td>\n",
       "      <td>Samsung</td>\n",
       "      <td>199.99</td>\n",
       "      <td>5</td>\n",
       "      <td>Very pleased</td>\n",
       "      <td>0</td>\n",
       "    </tr>\n",
       "    <tr>\n",
       "      <th>3</th>\n",
       "      <td>\"CLEAR CLEAN ESN\" Sprint EPIC 4G Galaxy SPH-D7...</td>\n",
       "      <td>Samsung</td>\n",
       "      <td>199.99</td>\n",
       "      <td>4</td>\n",
       "      <td>It works good but it goes slow sometimes but i...</td>\n",
       "      <td>0</td>\n",
       "    </tr>\n",
       "    <tr>\n",
       "      <th>4</th>\n",
       "      <td>\"CLEAR CLEAN ESN\" Sprint EPIC 4G Galaxy SPH-D7...</td>\n",
       "      <td>Samsung</td>\n",
       "      <td>199.99</td>\n",
       "      <td>4</td>\n",
       "      <td>Great phone to replace my lost phone. The only...</td>\n",
       "      <td>0</td>\n",
       "    </tr>\n",
       "  </tbody>\n",
       "</table>\n",
       "</div>"
      ],
      "text/plain": [
       "                                        Product Name Brand Name   Price  \\\n",
       "0  \"CLEAR CLEAN ESN\" Sprint EPIC 4G Galaxy SPH-D7...    Samsung  199.99   \n",
       "1  \"CLEAR CLEAN ESN\" Sprint EPIC 4G Galaxy SPH-D7...    Samsung  199.99   \n",
       "2  \"CLEAR CLEAN ESN\" Sprint EPIC 4G Galaxy SPH-D7...    Samsung  199.99   \n",
       "3  \"CLEAR CLEAN ESN\" Sprint EPIC 4G Galaxy SPH-D7...    Samsung  199.99   \n",
       "4  \"CLEAR CLEAN ESN\" Sprint EPIC 4G Galaxy SPH-D7...    Samsung  199.99   \n",
       "\n",
       "   Rating                                            Reviews  Review Votes  \n",
       "0       5  I feel so LUCKY to have found this used (phone...             1  \n",
       "1       4  nice phone, nice up grade from my pantach revu...             0  \n",
       "2       5                                       Very pleased             0  \n",
       "3       4  It works good but it goes slow sometimes but i...             0  \n",
       "4       4  Great phone to replace my lost phone. The only...             0  "
      ]
     },
     "execution_count": 4,
     "metadata": {},
     "output_type": "execute_result"
    }
   ],
   "source": [
    "df.head()"
   ]
  }
 ],
 "metadata": {
  "kernelspec": {
   "display_name": "Python 3",
   "language": "python",
   "name": "python3"
  },
  "language_info": {
   "codemirror_mode": {
    "name": "ipython",
    "version": 3
   },
   "file_extension": ".py",
   "mimetype": "text/x-python",
   "name": "python",
   "nbconvert_exporter": "python",
   "pygments_lexer": "ipython3",
   "version": "3.7.1"
  }
 },
 "nbformat": 4,
 "nbformat_minor": 2
}
